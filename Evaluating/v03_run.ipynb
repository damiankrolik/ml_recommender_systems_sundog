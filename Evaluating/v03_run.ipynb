{
 "cells": [
  {
   "cell_type": "markdown",
   "metadata": {},
   "source": [
    "#### To run scripts in jupyter use one of two ways\n",
    "\n",
    "\n",
    "`!python ScripName.py`\n",
    "\n",
    "`%run -m TestMetrics`"
   ]
  },
  {
   "cell_type": "code",
   "execution_count": 2,
   "metadata": {},
   "outputs": [
    {
     "name": "stdout",
     "output_type": "stream",
     "text": [
      "Loading movie ratings...\n",
      "\n",
      "Computing movie popularity ranks so we can measure novelty later...\n",
      "\n",
      "Computing item similarities so we can measure diversity later...\n",
      "Estimating biases using als...\n",
      "Computing the pearson_baseline similarity matrix...\n",
      "Done computing similarity matrix.\n",
      "\n",
      "Building recommendation model...\n",
      "\n",
      "Computing recommendations...\n",
      "\n",
      "Evaluating accuracy of model...\n",
      "RMSE:  0.9033701087151801\n",
      "MAE:  0.6977882196132263\n",
      "\n",
      "Evaluating top-10 recommendations...\n",
      "Computing recommendations with leave-one-out...\n",
      "Predict ratings for left-out set...\n",
      "Predict all missing ratings...\n",
      "Compute top 10 recs per user...\n",
      "\n",
      "Hit Rate:  0.029806259314456036\n",
      "\n",
      "rHR (Hit Rate by Rating value): \n",
      "3.5 0.017241379310344827\n",
      "4.0 0.0425531914893617\n",
      "4.5 0.020833333333333332\n",
      "5.0 0.06802721088435375\n",
      "\n",
      "cHR (Cumulative Hit Rate, rating >= 4):  0.04960835509138381\n",
      "\n",
      "ARHR (Average Reciprocal Hit Rank):  0.0111560570576964\n",
      "\n",
      "Computing complete recommendations, no hold outs...\n",
      "\n",
      "User coverage:  0.9552906110283159\n",
      "Computing the pearson_baseline similarity matrix...\n",
      "Done computing similarity matrix.\n",
      "\n",
      "Diversity:  0.9665208258150911\n",
      "\n",
      "Novelty (average popularity rank):  491.5767777960256\n"
     ]
    }
   ],
   "source": [
    "!python ./TestMetrics.py\n"
   ]
  },
  {
   "cell_type": "code",
   "execution_count": 4,
   "metadata": {},
   "outputs": [
    {
     "name": "stdout",
     "output_type": "stream",
     "text": [
      "Loading movie ratings...\n",
      "\n",
      "Computing movie popularity ranks so we can measure novelty later...\n",
      "\n",
      "Computing item similarities so we can measure diversity later...\n",
      "Estimating biases using als...\n",
      "Computing the pearson_baseline similarity matrix...\n",
      "Done computing similarity matrix.\n",
      "\n",
      "Building recommendation model...\n",
      "\n",
      "Computing recommendations...\n",
      "\n",
      "Evaluating accuracy of model...\n",
      "RMSE:  0.9033701087151801\n",
      "MAE:  0.6977882196132263\n",
      "\n",
      "Evaluating top-10 recommendations...\n",
      "Computing recommendations with leave-one-out...\n",
      "Predict ratings for left-out set...\n",
      "Predict all missing ratings...\n",
      "Compute top 10 recs per user...\n",
      "\n",
      "Hit Rate:  0.029806259314456036\n",
      "\n",
      "rHR (Hit Rate by Rating value): \n",
      "3.5 0.017241379310344827\n",
      "4.0 0.0425531914893617\n",
      "4.5 0.020833333333333332\n",
      "5.0 0.06802721088435375\n",
      "\n",
      "cHR (Cumulative Hit Rate, rating >= 4):  0.04960835509138381\n",
      "\n",
      "ARHR (Average Reciprocal Hit Rank):  0.0111560570576964\n",
      "\n",
      "Computing complete recommendations, no hold outs...\n",
      "\n",
      "User coverage:  0.9552906110283159\n",
      "Computing the pearson_baseline similarity matrix...\n",
      "Done computing similarity matrix.\n",
      "\n",
      "Diversity:  0.9665208258150911\n",
      "\n",
      "Novelty (average popularity rank):  491.5767777960256\n"
     ]
    }
   ],
   "source": [
    "%run -m TestMetrics"
   ]
  },
  {
   "cell_type": "code",
   "execution_count": 3,
   "metadata": {},
   "outputs": [],
   "source": [
    "import surprise"
   ]
  },
  {
   "cell_type": "markdown",
   "metadata": {},
   "source": [
    "Output from above commands:\n",
    "***\n",
    "\n",
    "```\n",
    "Loading movie ratings...\n",
    "\n",
    "Computing movie popularity ranks so we can measure novelty later...\n",
    "\n",
    "Computing item similarities so we can measure diversity later...\n",
    "Estimating biases using als...\n",
    "Computing the pearson_baseline similarity matrix...\n",
    "Done computing similarity matrix.\n",
    "\n",
    "Building recommendation model...\n",
    "\n",
    "Computing recommendations...\n",
    "\n",
    "Evaluating accuracy of model...\n",
    "RMSE:  0.9033701087151801\n",
    "MAE:  0.6977882196132263\n",
    "\n",
    "Evaluating top-10 recommendations...\n",
    "Computing recommendations with leave-one-out...\n",
    "Predict ratings for left-out set...\n",
    "Predict all missing ratings...\n",
    "Compute top 10 recs per user...\n",
    "\n",
    "Hit Rate:  0.029806259314456036\n",
    "\n",
    "rHR (Hit Rate by Rating value): \n",
    "3.5 0.017241379310344827\n",
    "4.0 0.0425531914893617\n",
    "4.5 0.020833333333333332\n",
    "5.0 0.06802721088435375\n",
    "\n",
    "cHR (Cumulative Hit Rate, rating >= 4):  0.04960835509138381\n",
    "\n",
    "ARHR (Average Reciprocal Hit Rank):  0.0111560570576964\n",
    "\n",
    "Computing complete recommendations, no hold outs...\n",
    "\n",
    "User coverage:  0.9552906110283159\n",
    "Computing the pearson_baseline similarity matrix...\n",
    "Done computing similarity matrix.\n",
    "\n",
    "Diversity:  0.9665208258150911\n",
    "\n",
    "Novelty (average popularity rank):  491.5767777960256\n",
    "```"
   ]
  },
  {
   "cell_type": "markdown",
   "metadata": {},
   "source": []
  }
 ],
 "metadata": {
  "kernelspec": {
   "display_name": "Python 3.8.10 ('venv': venv)",
   "language": "python",
   "name": "python3"
  },
  "language_info": {
   "codemirror_mode": {
    "name": "ipython",
    "version": 3
   },
   "file_extension": ".py",
   "mimetype": "text/x-python",
   "name": "python",
   "nbconvert_exporter": "python",
   "pygments_lexer": "ipython3",
   "version": "3.8.10"
  },
  "orig_nbformat": 4,
  "vscode": {
   "interpreter": {
    "hash": "3987b203037b09c0cd5f2c7669c77689d40a46dce1c338427ef5dc22eba68c81"
   }
  }
 },
 "nbformat": 4,
 "nbformat_minor": 2
}
